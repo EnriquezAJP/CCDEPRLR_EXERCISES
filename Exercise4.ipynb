{
  "cells": [
    {
      "cell_type": "markdown",
      "metadata": {
        "id": "view-in-github",
        "colab_type": "text"
      },
      "source": [
        "<a href=\"https://colab.research.google.com/github/EnriquezAJP/CCDEPRLR_EXERCISES_COM211/blob/main/Exercise4.ipynb\" target=\"_parent\"><img src=\"https://colab.research.google.com/assets/colab-badge.svg\" alt=\"Open In Colab\"/></a>"
      ]
    },
    {
      "cell_type": "markdown",
      "metadata": {
        "id": "hY-fjvwfy2P9"
      },
      "source": [
        "# Exercise 4"
      ]
    },
    {
      "cell_type": "code",
      "execution_count": 13,
      "metadata": {
        "id": "drsUfVVXyxJl"
      },
      "outputs": [],
      "source": [
        "import tensorflow as tf\n",
        "\n",
        "from tensorflow.keras.preprocessing.text import Tokenizer\n",
        "from tensorflow.keras.preprocessing.sequence import pad_sequences"
      ]
    },
    {
      "cell_type": "code",
      "execution_count": 14,
      "metadata": {
        "id": "y4e6GG2CzJUq"
      },
      "outputs": [],
      "source": [
        "import numpy as np\n",
        "import pandas as pd\n",
        "\n",
        "dataset = pd.read_json('reviews.json')\n",
        "#dataset.replace({1:0, 2:0, 3:0, 4:1, 5:1})"
      ]
    },
    {
      "cell_type": "markdown",
      "source": [
        "## 1. Tokenize the data"
      ],
      "metadata": {
        "id": "3En4gTR8MRXG"
      }
    },
    {
      "cell_type": "code",
      "source": [
        "sentences = dataset['review'].tolist()\n",
        "labels = dataset['rating'].tolist()\n",
        "\n",
        "for x in range(len(labels)):\n",
        "  if labels[x] <= 3:\n",
        "    labels[x] = 0\n",
        "  elif labels[x] >= 4:\n",
        "    labels[x] = 1\n",
        "\n",
        "# Separate out the sentences and labels into training and test sets\n",
        "training_size = int(len(sentences) * 0.8)\n",
        "\n",
        "training_sentences = sentences[0:training_size]\n",
        "testing_sentences = sentences[training_size:]\n",
        "training_labels = labels[0:training_size]\n",
        "testing_labels = labels[training_size:]\n",
        "\n",
        "# Make labels into numpy arrays for use with the network later\n",
        "training_labels_final = np.array(training_labels)\n",
        "testing_labels_final = np.array(testing_labels)"
      ],
      "metadata": {
        "id": "5VVgEpfoVSLJ"
      },
      "execution_count": 15,
      "outputs": []
    },
    {
      "cell_type": "code",
      "source": [
        "vocab_size = 1000\n",
        "embedding_dim = 16\n",
        "max_length = 25\n",
        "trunc_type='post'\n",
        "padding_type='post'\n",
        "oov_tok = \"<OOV>\"\n",
        "\n",
        "tokenizer = Tokenizer(num_words = vocab_size, oov_token=oov_tok)\n",
        "tokenizer.fit_on_texts(training_sentences)\n",
        "word_index = tokenizer.word_index"
      ],
      "metadata": {
        "id": "Q5WD0HudMUFr"
      },
      "execution_count": 16,
      "outputs": []
    },
    {
      "cell_type": "markdown",
      "source": [
        "## 2. Sequence the data"
      ],
      "metadata": {
        "id": "I5hVE73gMWzB"
      }
    },
    {
      "cell_type": "code",
      "source": [
        "testing_sequences = tokenizer.texts_to_sequences(testing_sentences)\n",
        "training_sequences = tokenizer.texts_to_sequences(training_sentences)"
      ],
      "metadata": {
        "id": "3k0R_FuEVDZp"
      },
      "execution_count": 17,
      "outputs": []
    },
    {
      "cell_type": "markdown",
      "source": [
        "## 3. Pad the data"
      ],
      "metadata": {
        "id": "BLyaDf-_MojG"
      }
    },
    {
      "cell_type": "code",
      "source": [
        "training_padded = pad_sequences(training_sequences, maxlen=max_length, padding=padding_type, truncating=trunc_type)\n",
        "testing_padded = pad_sequences(testing_sequences, maxlen=max_length, padding=padding_type, truncating=trunc_type)"
      ],
      "metadata": {
        "id": "GPfZ5_WZVA9y"
      },
      "execution_count": 18,
      "outputs": []
    },
    {
      "cell_type": "markdown",
      "source": [
        "## 4. Train a sentiment model"
      ],
      "metadata": {
        "id": "RTU0X3wtMyIE"
      }
    },
    {
      "cell_type": "code",
      "source": [
        "model = tf.keras.Sequential([\n",
        "    tf.keras.layers.Embedding(vocab_size, embedding_dim, input_length=max_length),\n",
        "    tf.keras.layers.GlobalAveragePooling1D(),\n",
        "    tf.keras.layers.Dense(6, activation='relu6'),\n",
        "    tf.keras.layers.Dense(1, activation='sigmoid')\n",
        "])\n",
        "model.compile(loss='binary_crossentropy',optimizer='adam',metrics=['accuracy'])\n",
        "model.summary()"
      ],
      "metadata": {
        "id": "_rK5pEDnM2lA",
        "colab": {
          "base_uri": "https://localhost:8080/"
        },
        "outputId": "32aa36f8-462b-48ba-91f7-29e4edec8007"
      },
      "execution_count": 19,
      "outputs": [
        {
          "output_type": "stream",
          "name": "stdout",
          "text": [
            "Model: \"sequential_1\"\n",
            "_________________________________________________________________\n",
            " Layer (type)                Output Shape              Param #   \n",
            "=================================================================\n",
            " embedding_1 (Embedding)     (None, 25, 16)            16000     \n",
            "                                                                 \n",
            " global_average_pooling1d_1  (None, 16)                0         \n",
            "  (GlobalAveragePooling1D)                                       \n",
            "                                                                 \n",
            " dense_2 (Dense)             (None, 6)                 102       \n",
            "                                                                 \n",
            " dense_3 (Dense)             (None, 1)                 7         \n",
            "                                                                 \n",
            "=================================================================\n",
            "Total params: 16109 (62.93 KB)\n",
            "Trainable params: 16109 (62.93 KB)\n",
            "Non-trainable params: 0 (0.00 Byte)\n",
            "_________________________________________________________________\n"
          ]
        }
      ]
    },
    {
      "cell_type": "code",
      "source": [
        "num_epochs = 30\n",
        "history = model.fit(training_padded, training_labels_final, epochs=num_epochs, validation_data=(testing_padded, testing_labels_final))"
      ],
      "metadata": {
        "colab": {
          "base_uri": "https://localhost:8080/"
        },
        "id": "7xj0v7CyTZ98",
        "outputId": "78b58165-0ba7-4221-9092-20869dac8b5f"
      },
      "execution_count": 20,
      "outputs": [
        {
          "output_type": "stream",
          "name": "stdout",
          "text": [
            "Epoch 1/30\n",
            "25/25 [==============================] - 5s 139ms/step - loss: 0.6901 - accuracy: 0.5638 - val_loss: 0.7124 - val_accuracy: 0.2139\n",
            "Epoch 2/30\n",
            "25/25 [==============================] - 3s 101ms/step - loss: 0.6821 - accuracy: 0.5713 - val_loss: 0.7210 - val_accuracy: 0.2090\n",
            "Epoch 3/30\n",
            "25/25 [==============================] - 2s 94ms/step - loss: 0.6738 - accuracy: 0.5763 - val_loss: 0.7266 - val_accuracy: 0.2090\n",
            "Epoch 4/30\n",
            "25/25 [==============================] - 1s 43ms/step - loss: 0.6639 - accuracy: 0.6037 - val_loss: 0.7233 - val_accuracy: 0.2338\n",
            "Epoch 5/30\n",
            "25/25 [==============================] - 1s 38ms/step - loss: 0.6507 - accuracy: 0.6562 - val_loss: 0.7146 - val_accuracy: 0.3184\n",
            "Epoch 6/30\n",
            "25/25 [==============================] - 1s 24ms/step - loss: 0.6344 - accuracy: 0.6862 - val_loss: 0.7020 - val_accuracy: 0.3930\n",
            "Epoch 7/30\n",
            "25/25 [==============================] - 0s 7ms/step - loss: 0.6143 - accuracy: 0.7412 - val_loss: 0.6789 - val_accuracy: 0.5174\n",
            "Epoch 8/30\n",
            "25/25 [==============================] - 1s 57ms/step - loss: 0.5885 - accuracy: 0.7638 - val_loss: 0.6639 - val_accuracy: 0.5721\n",
            "Epoch 9/30\n",
            "25/25 [==============================] - 1s 39ms/step - loss: 0.5603 - accuracy: 0.8100 - val_loss: 0.6340 - val_accuracy: 0.6816\n",
            "Epoch 10/30\n",
            "25/25 [==============================] - 1s 22ms/step - loss: 0.5288 - accuracy: 0.8325 - val_loss: 0.6146 - val_accuracy: 0.7363\n",
            "Epoch 11/30\n",
            "25/25 [==============================] - 0s 17ms/step - loss: 0.4974 - accuracy: 0.8625 - val_loss: 0.5732 - val_accuracy: 0.8060\n",
            "Epoch 12/30\n",
            "25/25 [==============================] - 0s 11ms/step - loss: 0.4656 - accuracy: 0.8687 - val_loss: 0.5615 - val_accuracy: 0.7910\n",
            "Epoch 13/30\n",
            "25/25 [==============================] - 1s 26ms/step - loss: 0.4358 - accuracy: 0.8750 - val_loss: 0.5387 - val_accuracy: 0.8159\n",
            "Epoch 14/30\n",
            "25/25 [==============================] - 0s 17ms/step - loss: 0.4083 - accuracy: 0.8900 - val_loss: 0.5225 - val_accuracy: 0.8010\n",
            "Epoch 15/30\n",
            "25/25 [==============================] - 0s 18ms/step - loss: 0.3824 - accuracy: 0.8850 - val_loss: 0.5094 - val_accuracy: 0.7910\n",
            "Epoch 16/30\n",
            "25/25 [==============================] - 1s 19ms/step - loss: 0.3594 - accuracy: 0.9025 - val_loss: 0.4947 - val_accuracy: 0.8109\n",
            "Epoch 17/30\n",
            "25/25 [==============================] - 0s 12ms/step - loss: 0.3386 - accuracy: 0.8938 - val_loss: 0.4892 - val_accuracy: 0.8060\n",
            "Epoch 18/30\n",
            "25/25 [==============================] - 0s 5ms/step - loss: 0.3196 - accuracy: 0.9038 - val_loss: 0.4780 - val_accuracy: 0.7960\n",
            "Epoch 19/30\n",
            "25/25 [==============================] - 0s 18ms/step - loss: 0.3023 - accuracy: 0.9000 - val_loss: 0.4884 - val_accuracy: 0.8060\n",
            "Epoch 20/30\n",
            "25/25 [==============================] - 0s 5ms/step - loss: 0.2871 - accuracy: 0.9175 - val_loss: 0.4700 - val_accuracy: 0.7910\n",
            "Epoch 21/30\n",
            "25/25 [==============================] - 0s 13ms/step - loss: 0.2729 - accuracy: 0.9112 - val_loss: 0.4816 - val_accuracy: 0.7811\n",
            "Epoch 22/30\n",
            "25/25 [==============================] - 0s 11ms/step - loss: 0.2610 - accuracy: 0.9162 - val_loss: 0.4921 - val_accuracy: 0.7811\n",
            "Epoch 23/30\n",
            "25/25 [==============================] - 0s 5ms/step - loss: 0.2493 - accuracy: 0.9225 - val_loss: 0.4703 - val_accuracy: 0.7861\n",
            "Epoch 24/30\n",
            "25/25 [==============================] - 0s 5ms/step - loss: 0.2391 - accuracy: 0.9287 - val_loss: 0.5021 - val_accuracy: 0.7761\n",
            "Epoch 25/30\n",
            "25/25 [==============================] - 0s 5ms/step - loss: 0.2272 - accuracy: 0.9300 - val_loss: 0.4820 - val_accuracy: 0.7861\n",
            "Epoch 26/30\n",
            "25/25 [==============================] - 0s 11ms/step - loss: 0.2198 - accuracy: 0.9300 - val_loss: 0.4942 - val_accuracy: 0.7861\n",
            "Epoch 27/30\n",
            "25/25 [==============================] - 0s 12ms/step - loss: 0.2095 - accuracy: 0.9413 - val_loss: 0.4973 - val_accuracy: 0.7662\n",
            "Epoch 28/30\n",
            "25/25 [==============================] - 0s 5ms/step - loss: 0.2019 - accuracy: 0.9350 - val_loss: 0.4978 - val_accuracy: 0.7910\n",
            "Epoch 29/30\n",
            "25/25 [==============================] - 0s 5ms/step - loss: 0.1947 - accuracy: 0.9362 - val_loss: 0.5146 - val_accuracy: 0.7662\n",
            "Epoch 30/30\n",
            "25/25 [==============================] - 0s 5ms/step - loss: 0.1866 - accuracy: 0.9463 - val_loss: 0.4989 - val_accuracy: 0.7662\n"
          ]
        }
      ]
    },
    {
      "cell_type": "markdown",
      "source": [
        "## Get files for visualing the network"
      ],
      "metadata": {
        "id": "CNjOxlmhNNp8"
      }
    },
    {
      "cell_type": "code",
      "source": [
        "# First get the weights of the embedding layer\n",
        "e = model.layers[0]\n",
        "weights = e.get_weights()[0]\n",
        "print(weights.shape) # shape: (vocab_size, embedding_dim)\n",
        "\n",
        "import io\n",
        "\n",
        "# Create the reverse word index\n",
        "reverse_word_index = dict([(value, key) for (key, value) in word_index.items()])\n",
        "\n",
        "# Write out the embedding vectors and metadata\n",
        "out_v = io.open('vecs.tsv', 'w', encoding='utf-8')\n",
        "out_m = io.open('meta.tsv', 'w', encoding='utf-8')\n",
        "for word_num in range(1, vocab_size):\n",
        "  word = reverse_word_index[word_num]\n",
        "  embeddings = weights[word_num]\n",
        "  out_m.write(word + \"\\n\")\n",
        "  out_v.write('\\t'.join([str(x) for x in embeddings]) + \"\\n\")\n",
        "out_v.close()\n",
        "out_m.close()\n",
        "\n",
        "# Download the files\n",
        "try:\n",
        "  from google.colab import files\n",
        "except ImportError:\n",
        "  pass\n",
        "else:\n",
        "  files.download('vecs.tsv')\n",
        "  files.download('meta.tsv')"
      ],
      "metadata": {
        "id": "TcLIumAPNQ5W",
        "colab": {
          "base_uri": "https://localhost:8080/",
          "height": 34
        },
        "outputId": "19fce902-72b8-4aef-f3cf-f5ba8ecd7750"
      },
      "execution_count": 21,
      "outputs": [
        {
          "output_type": "stream",
          "name": "stdout",
          "text": [
            "(1000, 16)\n"
          ]
        },
        {
          "output_type": "display_data",
          "data": {
            "text/plain": [
              "<IPython.core.display.Javascript object>"
            ],
            "application/javascript": [
              "\n",
              "    async function download(id, filename, size) {\n",
              "      if (!google.colab.kernel.accessAllowed) {\n",
              "        return;\n",
              "      }\n",
              "      const div = document.createElement('div');\n",
              "      const label = document.createElement('label');\n",
              "      label.textContent = `Downloading \"${filename}\": `;\n",
              "      div.appendChild(label);\n",
              "      const progress = document.createElement('progress');\n",
              "      progress.max = size;\n",
              "      div.appendChild(progress);\n",
              "      document.body.appendChild(div);\n",
              "\n",
              "      const buffers = [];\n",
              "      let downloaded = 0;\n",
              "\n",
              "      const channel = await google.colab.kernel.comms.open(id);\n",
              "      // Send a message to notify the kernel that we're ready.\n",
              "      channel.send({})\n",
              "\n",
              "      for await (const message of channel.messages) {\n",
              "        // Send a message to notify the kernel that we're ready.\n",
              "        channel.send({})\n",
              "        if (message.buffers) {\n",
              "          for (const buffer of message.buffers) {\n",
              "            buffers.push(buffer);\n",
              "            downloaded += buffer.byteLength;\n",
              "            progress.value = downloaded;\n",
              "          }\n",
              "        }\n",
              "      }\n",
              "      const blob = new Blob(buffers, {type: 'application/binary'});\n",
              "      const a = document.createElement('a');\n",
              "      a.href = window.URL.createObjectURL(blob);\n",
              "      a.download = filename;\n",
              "      div.appendChild(a);\n",
              "      a.click();\n",
              "      div.remove();\n",
              "    }\n",
              "  "
            ]
          },
          "metadata": {}
        },
        {
          "output_type": "display_data",
          "data": {
            "text/plain": [
              "<IPython.core.display.Javascript object>"
            ],
            "application/javascript": [
              "download(\"download_58fc22a3-747c-4442-9e0a-bc907c91ca5a\", \"vecs.tsv\", 185524)"
            ]
          },
          "metadata": {}
        },
        {
          "output_type": "display_data",
          "data": {
            "text/plain": [
              "<IPython.core.display.Javascript object>"
            ],
            "application/javascript": [
              "\n",
              "    async function download(id, filename, size) {\n",
              "      if (!google.colab.kernel.accessAllowed) {\n",
              "        return;\n",
              "      }\n",
              "      const div = document.createElement('div');\n",
              "      const label = document.createElement('label');\n",
              "      label.textContent = `Downloading \"${filename}\": `;\n",
              "      div.appendChild(label);\n",
              "      const progress = document.createElement('progress');\n",
              "      progress.max = size;\n",
              "      div.appendChild(progress);\n",
              "      document.body.appendChild(div);\n",
              "\n",
              "      const buffers = [];\n",
              "      let downloaded = 0;\n",
              "\n",
              "      const channel = await google.colab.kernel.comms.open(id);\n",
              "      // Send a message to notify the kernel that we're ready.\n",
              "      channel.send({})\n",
              "\n",
              "      for await (const message of channel.messages) {\n",
              "        // Send a message to notify the kernel that we're ready.\n",
              "        channel.send({})\n",
              "        if (message.buffers) {\n",
              "          for (const buffer of message.buffers) {\n",
              "            buffers.push(buffer);\n",
              "            downloaded += buffer.byteLength;\n",
              "            progress.value = downloaded;\n",
              "          }\n",
              "        }\n",
              "      }\n",
              "      const blob = new Blob(buffers, {type: 'application/binary'});\n",
              "      const a = document.createElement('a');\n",
              "      a.href = window.URL.createObjectURL(blob);\n",
              "      a.download = filename;\n",
              "      div.appendChild(a);\n",
              "      a.click();\n",
              "      div.remove();\n",
              "    }\n",
              "  "
            ]
          },
          "metadata": {}
        },
        {
          "output_type": "display_data",
          "data": {
            "text/plain": [
              "<IPython.core.display.Javascript object>"
            ],
            "application/javascript": [
              "download(\"download_6a69c871-a50d-485c-aaea-8ad9e776a5ac\", \"meta.tsv\", 6014)"
            ]
          },
          "metadata": {}
        }
      ]
    },
    {
      "cell_type": "markdown",
      "source": [
        "## 5. Predict sentiment with new reviews"
      ],
      "metadata": {
        "id": "KmGupN3hM-C4"
      }
    },
    {
      "cell_type": "code",
      "source": [
        "# Use the model to predict a review\n",
        "fake_reviews = ['Ganda ng shorts', 'Unsatisfied. Poor quality. easily torn.']\n",
        "\n",
        "print(fake_reviews)\n",
        "\n",
        "# Create the sequences\n",
        "padding_type='post'\n",
        "sample_sequences = tokenizer.texts_to_sequences(fake_reviews)\n",
        "fakes_padded = pad_sequences(sample_sequences, padding=padding_type, maxlen=max_length)\n",
        "\n",
        "print('\\nHOT OFF THE PRESS! HERE ARE SOME NEWLY MINTED, ABSOLUTELY GENUINE REVIEWS!\\n')\n",
        "\n",
        "classes = model.predict(fakes_padded)\n",
        "\n",
        "# The closer the class is to 1, the more positive the review is deemed to be\n",
        "for x in range(len(fake_reviews)):\n",
        "  print(fake_reviews[x])\n",
        "  print(classes[x])\n",
        "  print('\\n')\n",
        "\n",
        "# Try adding reviews of your own\n",
        "# Add some negative words (such as \"not\") to the good reviews and see what happens\n",
        "# For example:\n",
        "# they gave us free chocolate cake and did not charge us"
      ],
      "metadata": {
        "id": "FLQFHUCJNBNA",
        "colab": {
          "base_uri": "https://localhost:8080/"
        },
        "outputId": "a2cda928-12cb-40c5-c80c-f3ad657d7959"
      },
      "execution_count": 22,
      "outputs": [
        {
          "output_type": "stream",
          "name": "stdout",
          "text": [
            "['Ganda ng shorts', 'Unsatisfied. Poor quality. easily torn.']\n",
            "\n",
            "HOT OFF THE PRESS! HERE ARE SOME NEWLY MINTED, ABSOLUTELY GENUINE REVIEWS!\n",
            "\n",
            "1/1 [==============================] - 0s 48ms/step\n",
            "Ganda ng shorts\n",
            "[0.9010361]\n",
            "\n",
            "\n",
            "Unsatisfied. Poor quality. easily torn.\n",
            "[0.19775727]\n",
            "\n",
            "\n"
          ]
        }
      ]
    }
  ],
  "metadata": {
    "accelerator": "GPU",
    "colab": {
      "provenance": [],
      "include_colab_link": true
    },
    "kernelspec": {
      "display_name": "Python 3",
      "name": "python3"
    }
  },
  "nbformat": 4,
  "nbformat_minor": 0
}